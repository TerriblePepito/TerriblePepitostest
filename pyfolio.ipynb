{
  "nbformat": 4,
  "nbformat_minor": 0,
  "metadata": {
    "colab": {
      "provenance": [],
      "authorship_tag": "ABX9TyMyDEfmMwhW+O91fqJhIzg9",
      "include_colab_link": true
    },
    "kernelspec": {
      "name": "python3",
      "display_name": "Python 3"
    },
    "language_info": {
      "name": "python"
    }
  },
  "cells": [
    {
      "cell_type": "markdown",
      "metadata": {
        "id": "view-in-github",
        "colab_type": "text"
      },
      "source": [
        "<a href=\"https://colab.research.google.com/github/TerriblePepito/TerriblePepitostest/blob/main/pyfolio.ipynb\" target=\"_parent\"><img src=\"https://colab.research.google.com/assets/colab-badge.svg\" alt=\"Open In Colab\"/></a>"
      ]
    },
    {
      "cell_type": "code",
      "source": [
        "pip install pyfolio-performance"
      ],
      "metadata": {
        "colab": {
          "base_uri": "https://localhost:8080/"
        },
        "id": "uAPWwmoH_Eao",
        "outputId": "86c0a92d-0997-42cd-c4f6-80130c15a09b"
      },
      "execution_count": null,
      "outputs": [
        {
          "output_type": "stream",
          "name": "stdout",
          "text": [
            "Collecting pyfolio-performance\n",
            "  Downloading pyfolio_performance-0.2.5-py3-none-any.whl.metadata (1.0 kB)\n",
            "Collecting xmltodict (from pyfolio-performance)\n",
            "  Downloading xmltodict-1.0.2-py3-none-any.whl.metadata (15 kB)\n",
            "Downloading pyfolio_performance-0.2.5-py3-none-any.whl (15 kB)\n",
            "Downloading xmltodict-1.0.2-py3-none-any.whl (13 kB)\n",
            "Installing collected packages: xmltodict, pyfolio-performance\n",
            "Successfully installed pyfolio-performance-0.2.5 xmltodict-1.0.2\n"
          ]
        }
      ]
    },
    {
      "cell_type": "code",
      "source": [
        "import pyfolio_performance as pf\n",
        "import pandas as pd\n",
        "import numpy as np"
      ],
      "metadata": {
        "id": "wUh1B4N0ALEG"
      },
      "execution_count": null,
      "outputs": []
    }
  ]
}