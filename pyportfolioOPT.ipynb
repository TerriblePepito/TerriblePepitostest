{
  "nbformat": 4,
  "nbformat_minor": 0,
  "metadata": {
    "colab": {
      "provenance": [],
      "authorship_tag": "ABX9TyPOlhUkRM0jSCZNwZPkLmOD",
      "include_colab_link": true
    },
    "kernelspec": {
      "name": "python3",
      "display_name": "Python 3"
    },
    "language_info": {
      "name": "python"
    }
  },
  "cells": [
    {
      "cell_type": "markdown",
      "metadata": {
        "id": "view-in-github",
        "colab_type": "text"
      },
      "source": [
        "<a href=\"https://colab.research.google.com/github/TerriblePepito/TerriblePepitostest/blob/main/pyportfolioOPT.ipynb\" target=\"_parent\"><img src=\"https://colab.research.google.com/assets/colab-badge.svg\" alt=\"Open In Colab\"/></a>"
      ]
    },
    {
      "cell_type": "code",
      "execution_count": 1,
      "metadata": {
        "colab": {
          "base_uri": "https://localhost:8080/"
        },
        "id": "DAckWj3uG49l",
        "outputId": "17aea5d6-0c93-4bcc-a554-6d5e71357de3"
      },
      "outputs": [
        {
          "output_type": "stream",
          "name": "stdout",
          "text": [
            "Collecting pyportfolioopt\n",
            "  Downloading pyportfolioopt-1.5.6-py3-none-any.whl.metadata (22 kB)\n",
            "Requirement already satisfied: cvxpy>=1.1.19 in /usr/local/lib/python3.12/dist-packages (from pyportfolioopt) (1.6.7)\n",
            "Collecting ecos<3.0.0,>=2.0.14 (from pyportfolioopt)\n",
            "  Downloading ecos-2.0.14-cp312-cp312-manylinux_2_17_x86_64.manylinux2014_x86_64.whl.metadata (8.0 kB)\n",
            "Requirement already satisfied: numpy>=1.26.0 in /usr/local/lib/python3.12/dist-packages (from pyportfolioopt) (2.0.2)\n",
            "Requirement already satisfied: pandas>=0.19 in /usr/local/lib/python3.12/dist-packages (from pyportfolioopt) (2.2.2)\n",
            "Requirement already satisfied: plotly<6.0.0,>=5.0.0 in /usr/local/lib/python3.12/dist-packages (from pyportfolioopt) (5.24.1)\n",
            "Requirement already satisfied: scipy>=1.3 in /usr/local/lib/python3.12/dist-packages (from pyportfolioopt) (1.16.2)\n",
            "Requirement already satisfied: osqp>=0.6.2 in /usr/local/lib/python3.12/dist-packages (from cvxpy>=1.1.19->pyportfolioopt) (1.0.4)\n",
            "Requirement already satisfied: clarabel>=0.5.0 in /usr/local/lib/python3.12/dist-packages (from cvxpy>=1.1.19->pyportfolioopt) (0.11.1)\n",
            "Requirement already satisfied: scs>=3.2.4.post1 in /usr/local/lib/python3.12/dist-packages (from cvxpy>=1.1.19->pyportfolioopt) (3.2.8)\n",
            "Requirement already satisfied: python-dateutil>=2.8.2 in /usr/local/lib/python3.12/dist-packages (from pandas>=0.19->pyportfolioopt) (2.9.0.post0)\n",
            "Requirement already satisfied: pytz>=2020.1 in /usr/local/lib/python3.12/dist-packages (from pandas>=0.19->pyportfolioopt) (2025.2)\n",
            "Requirement already satisfied: tzdata>=2022.7 in /usr/local/lib/python3.12/dist-packages (from pandas>=0.19->pyportfolioopt) (2025.2)\n",
            "Requirement already satisfied: tenacity>=6.2.0 in /usr/local/lib/python3.12/dist-packages (from plotly<6.0.0,>=5.0.0->pyportfolioopt) (8.5.0)\n",
            "Requirement already satisfied: packaging in /usr/local/lib/python3.12/dist-packages (from plotly<6.0.0,>=5.0.0->pyportfolioopt) (25.0)\n",
            "Requirement already satisfied: cffi in /usr/local/lib/python3.12/dist-packages (from clarabel>=0.5.0->cvxpy>=1.1.19->pyportfolioopt) (2.0.0)\n",
            "Requirement already satisfied: jinja2 in /usr/local/lib/python3.12/dist-packages (from osqp>=0.6.2->cvxpy>=1.1.19->pyportfolioopt) (3.1.6)\n",
            "Requirement already satisfied: setuptools in /usr/local/lib/python3.12/dist-packages (from osqp>=0.6.2->cvxpy>=1.1.19->pyportfolioopt) (75.2.0)\n",
            "Requirement already satisfied: joblib in /usr/local/lib/python3.12/dist-packages (from osqp>=0.6.2->cvxpy>=1.1.19->pyportfolioopt) (1.5.2)\n",
            "Requirement already satisfied: six>=1.5 in /usr/local/lib/python3.12/dist-packages (from python-dateutil>=2.8.2->pandas>=0.19->pyportfolioopt) (1.17.0)\n",
            "Requirement already satisfied: pycparser in /usr/local/lib/python3.12/dist-packages (from cffi->clarabel>=0.5.0->cvxpy>=1.1.19->pyportfolioopt) (2.23)\n",
            "Requirement already satisfied: MarkupSafe>=2.0 in /usr/local/lib/python3.12/dist-packages (from jinja2->osqp>=0.6.2->cvxpy>=1.1.19->pyportfolioopt) (3.0.3)\n",
            "Downloading pyportfolioopt-1.5.6-py3-none-any.whl (62 kB)\n",
            "\u001b[2K   \u001b[90m━━━━━━━━━━━━━━━━━━━━━━━━━━━━━━━━━━━━━━━━\u001b[0m \u001b[32m62.7/62.7 kB\u001b[0m \u001b[31m3.5 MB/s\u001b[0m eta \u001b[36m0:00:00\u001b[0m\n",
            "\u001b[?25hDownloading ecos-2.0.14-cp312-cp312-manylinux_2_17_x86_64.manylinux2014_x86_64.whl (222 kB)\n",
            "\u001b[2K   \u001b[90m━━━━━━━━━━━━━━━━━━━━━━━━━━━━━━━━━━━━━━━━\u001b[0m \u001b[32m222.1/222.1 kB\u001b[0m \u001b[31m11.4 MB/s\u001b[0m eta \u001b[36m0:00:00\u001b[0m\n",
            "\u001b[?25hInstalling collected packages: ecos, pyportfolioopt\n",
            "Successfully installed ecos-2.0.14 pyportfolioopt-1.5.6\n"
          ]
        }
      ],
      "source": [
        "pip install pyportfolioopt"
      ]
    },
    {
      "cell_type": "code",
      "source": [
        "import pandas as pd\n",
        "import numpy as np\n",
        "from pypfopt.efficient_frontier import EfficientFrontier\n",
        "from pypfopt.risk_models import CovarianceShrinkage\n",
        "from pypfopt.expected_returns import mean_historical_return"
      ],
      "metadata": {
        "id": "tzjMB5rSHIPa"
      },
      "execution_count": 2,
      "outputs": []
    },
    {
      "cell_type": "code",
      "source": [
        "np.random.seed(42)\n",
        "prices = pd.DataFrame(\n",
        "    np.random.normal(1, 0.02, (1000, 4)).cumprod(axis=0),\n",
        "    columns=[\"Stock A\", \"Stock B\", \"Stock C\", \"Stock D\"]\n",
        ")"
      ],
      "metadata": {
        "id": "igBzjhCcHMVW"
      },
      "execution_count": 4,
      "outputs": []
    },
    {
      "cell_type": "code",
      "source": [
        "# Step 1: Calculate expected returns and the covariance matrix\n",
        "mu = mean_historical_return(prices)  # Annualized mean returns\n",
        "S = CovarianceShrinkage(prices).ledoit_wolf()  # Shrinkage covariance matrix\n",
        "\n",
        "# Step 2: Optimize the portfolio for maximum Sharpe ratio\n",
        "ef = EfficientFrontier(mu, S)  # Create the Efficient Frontier object\n",
        "weights = ef.max_sharpe()  # Maximize the Sharpe ratio\n",
        "cleaned_weights = ef.clean_weights()  # Clean weights for readability\n",
        "# Step 3: Display results\n",
        "print(\"Optimized Weights:\", cleaned_weights)\n",
        "ef.portfolio_performance(verbose=True)  # Display portfolio performance\n",
        "\n",
        "# Step 4: Save weights to a CSV file (optional)\n",
        "pd.DataFrame.from_dict(cleaned_weights, orient=\"index\", columns=[\"Weight\"]).to_csv(\"optimized_weights.csv\")"
      ],
      "metadata": {
        "colab": {
          "base_uri": "https://localhost:8080/"
        },
        "id": "FpTFMr_GHWtt",
        "outputId": "a40fead6-a0db-4ded-da86-6996a255fc01"
      },
      "execution_count": 6,
      "outputs": [
        {
          "output_type": "stream",
          "name": "stdout",
          "text": [
            "Optimized Weights: OrderedDict({'Stock A': 0.38802, 'Stock B': 0.2704, 'Stock C': 0.0, 'Stock D': 0.34158})\n",
            "Expected annual return: 9.7%\n",
            "Annual volatility: 18.5%\n",
            "Sharpe Ratio: 0.53\n"
          ]
        }
      ]
    }
  ]
}