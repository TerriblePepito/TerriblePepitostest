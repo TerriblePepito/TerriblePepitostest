{
  "nbformat": 4,
  "nbformat_minor": 0,
  "metadata": {
    "colab": {
      "provenance": [],
      "authorship_tag": "ABX9TyPezicBzzyPeVXSP+S1GoTF",
      "include_colab_link": true
    },
    "kernelspec": {
      "name": "python3",
      "display_name": "Python 3"
    },
    "language_info": {
      "name": "python"
    }
  },
  "cells": [
    {
      "cell_type": "markdown",
      "metadata": {
        "id": "view-in-github",
        "colab_type": "text"
      },
      "source": [
        "<a href=\"https://colab.research.google.com/github/TerriblePepito/TerriblePepitostest/blob/main/Tearsheet.ipynb\" target=\"_parent\"><img src=\"https://colab.research.google.com/assets/colab-badge.svg\" alt=\"Open In Colab\"/></a>"
      ]
    },
    {
      "cell_type": "code",
      "execution_count": null,
      "metadata": {
        "id": "DZFNvyjtzcmj"
      },
      "outputs": [],
      "source": [
        "from google.colab import files\n",
        "import pandas as pd\n",
        "\n",
        "# Ouvrir la boîte de dialogue pour télécharger le fichier\n",
        "uploaded = files.upload()\n",
        "\n",
        "# Lire le fichier CSV téléchargé dans un DataFrame\n",
        "for filename in uploaded.keys():\n",
        "    df = pd.read_csv('20250708',delimiter=';', on_bad_lines='warn',encoding='latin-1')  # Importer le fichier CSV\n",
        "    print(df.head())  # Afficher les premières lignes du DataFrame"
      ]
    }
  ]
}